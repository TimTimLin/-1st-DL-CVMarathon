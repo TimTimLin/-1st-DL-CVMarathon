{
 "cells": [
  {
   "cell_type": "markdown",
   "metadata": {
    "colab_type": "text",
    "id": "cj4tE8e8iUtO"
   },
   "source": [
    "#   \n",
    "\n",
    "# 作業目標:\n",
    "\n",
    "    1. 藉由固定的 dataset, 來驗證不同loss function\n",
    "    2. Dataset 的特性跟我們選用的loss function 對accrancy 的影響\n",
    "    \n",
    "    \n",
    "# 作業重點: \n",
    "    請分別選用 \"MSE\", \"binary _crossentropy\"\n",
    "    查看Train/test accurancy and loss rate\n",
    "    "
   ]
  },
  {
   "cell_type": "markdown",
   "metadata": {
    "colab_type": "text",
    "id": "R51J4KyyiUsL"
   },
   "source": [
    "# 導入必要的函數"
   ]
  },
  {
   "cell_type": "code",
   "execution_count": 1,
   "metadata": {},
   "outputs": [
    {
     "name": "stdout",
     "output_type": "stream",
     "text": [
      "[name: \"/device:CPU:0\"\n",
      "device_type: \"CPU\"\n",
      "memory_limit: 268435456\n",
      "locality {\n",
      "}\n",
      "incarnation: 15881060787349133582\n",
      "]\n"
     ]
    }
   ],
   "source": [
    "from tensorflow.python.client import device_lib\n",
    "\n",
    "print(device_lib.list_local_devices())\n",
    "\n"
   ]
  },
  {
   "cell_type": "code",
   "execution_count": 2,
   "metadata": {
    "colab": {},
    "colab_type": "code",
    "id": "Qd68OQjciUsM"
   },
   "outputs": [],
   "source": [
    "from keras.datasets import cifar10\n",
    "import numpy as np\n",
    "np.random.seed(10)"
   ]
  },
  {
   "cell_type": "markdown",
   "metadata": {
    "colab_type": "text",
    "id": "GxKuzQLQiUsP"
   },
   "source": [
    "# 資料準備"
   ]
  },
  {
   "cell_type": "code",
   "execution_count": 3,
   "metadata": {
    "colab": {},
    "colab_type": "code",
    "id": "MIbFZdTCiUsQ"
   },
   "outputs": [],
   "source": [
    "#取得Keras Dataset\n",
    "(x_img_train,y_label_train),(x_img_test,y_label_test)=cifar10.load_data()"
   ]
  },
  {
   "cell_type": "code",
   "execution_count": 4,
   "metadata": {
    "colab": {},
    "colab_type": "code",
    "id": "J8CJVjNOiUsS"
   },
   "outputs": [
    {
     "name": "stdout",
     "output_type": "stream",
     "text": [
      "train data: images: (50000, 32, 32, 3)  labels: (50000, 1)\n",
      "test  data: images: (10000, 32, 32, 3)  labels: (10000, 1)\n"
     ]
    }
   ],
   "source": [
    "#確認 CIFAR10 Dataset 資料維度\n",
    "print(\"train data:\",'images:',x_img_train.shape,\n",
    "      \" labels:\",y_label_train.shape) \n",
    "print(\"test  data:\",'images:',x_img_test.shape ,\n",
    "      \" labels:\",y_label_test.shape) "
   ]
  },
  {
   "cell_type": "code",
   "execution_count": 5,
   "metadata": {
    "colab": {},
    "colab_type": "code",
    "id": "V3P6P4DXiUsV"
   },
   "outputs": [],
   "source": [
    "#資料正規化\n",
    "x_img_train_normalize = x_img_train.astype('float32') / 255.0\n",
    "x_img_test_normalize = x_img_test.astype('float32') / 255.0"
   ]
  },
  {
   "cell_type": "code",
   "execution_count": 6,
   "metadata": {
    "colab": {},
    "colab_type": "code",
    "id": "vsDyjKYliUsX"
   },
   "outputs": [
    {
     "data": {
      "text/plain": [
       "(10000, 10)"
      ]
     },
     "execution_count": 6,
     "metadata": {},
     "output_type": "execute_result"
    }
   ],
   "source": [
    "#針對Label 做 ONE HOT ENCODE\n",
    "from keras.utils import np_utils\n",
    "y_label_train_OneHot = np_utils.to_categorical(y_label_train)\n",
    "y_label_test_OneHot = np_utils.to_categorical(y_label_test)\n",
    "y_label_test_OneHot.shape"
   ]
  },
  {
   "cell_type": "markdown",
   "metadata": {
    "colab_type": "text",
    "id": "RutW2OtgiUsZ"
   },
   "source": [
    "# 建立模型"
   ]
  },
  {
   "cell_type": "code",
   "execution_count": 7,
   "metadata": {
    "colab": {},
    "colab_type": "code",
    "id": "aHz592aXiUsa"
   },
   "outputs": [],
   "source": [
    "from keras.models import Sequential\n",
    "from keras.layers import Dense, Dropout, Activation, Flatten\n",
    "from keras.layers import Conv2D, MaxPooling2D, ZeroPadding2D"
   ]
  },
  {
   "cell_type": "code",
   "execution_count": 8,
   "metadata": {
    "colab": {},
    "colab_type": "code",
    "id": "hslqrIp0iUse"
   },
   "outputs": [],
   "source": [
    "model = Sequential()"
   ]
  },
  {
   "cell_type": "code",
   "execution_count": 9,
   "metadata": {
    "colab": {},
    "colab_type": "code",
    "id": "Hqe35hs2iUsi"
   },
   "outputs": [],
   "source": [
    "#卷積層1"
   ]
  },
  {
   "cell_type": "code",
   "execution_count": 10,
   "metadata": {
    "colab": {},
    "colab_type": "code",
    "id": "ED7dqe1YiUsm"
   },
   "outputs": [],
   "source": [
    "model.add(Conv2D(filters=32,kernel_size=(3,3),\n",
    "                 input_shape=(32, 32,3), \n",
    "                 activation='relu', \n",
    "                 padding='same'))"
   ]
  },
  {
   "cell_type": "code",
   "execution_count": 11,
   "metadata": {
    "colab": {},
    "colab_type": "code",
    "id": "n-GRKmPViUso"
   },
   "outputs": [],
   "source": [
    "model.add(Dropout(rate=0.25))"
   ]
  },
  {
   "cell_type": "code",
   "execution_count": 12,
   "metadata": {
    "colab": {},
    "colab_type": "code",
    "id": "GlWnnD1uiUsw"
   },
   "outputs": [],
   "source": [
    "model.add(MaxPooling2D(pool_size=(2, 2)))"
   ]
  },
  {
   "cell_type": "code",
   "execution_count": 13,
   "metadata": {
    "colab": {},
    "colab_type": "code",
    "id": "nawlkt55iUsy"
   },
   "outputs": [],
   "source": [
    "#卷積層2與池化層2"
   ]
  },
  {
   "cell_type": "code",
   "execution_count": 14,
   "metadata": {
    "colab": {},
    "colab_type": "code",
    "id": "xxyETiKNiUs1"
   },
   "outputs": [],
   "source": [
    "model.add(Conv2D(filters=64, kernel_size=(3, 3), \n",
    "                 activation='relu', padding='same'))"
   ]
  },
  {
   "cell_type": "code",
   "execution_count": 15,
   "metadata": {
    "colab": {},
    "colab_type": "code",
    "id": "RqcKWtqGiUs2"
   },
   "outputs": [],
   "source": [
    "model.add(Dropout(0.25))"
   ]
  },
  {
   "cell_type": "code",
   "execution_count": 16,
   "metadata": {
    "colab": {},
    "colab_type": "code",
    "id": "BUOOzlqfiUs4"
   },
   "outputs": [],
   "source": [
    "model.add(MaxPooling2D(pool_size=(2, 2)))"
   ]
  },
  {
   "cell_type": "code",
   "execution_count": 17,
   "metadata": {
    "colab": {},
    "colab_type": "code",
    "id": "LpkppB2siUs7"
   },
   "outputs": [],
   "source": [
    "#建立神經網路(平坦層、隱藏層、輸出層)"
   ]
  },
  {
   "cell_type": "code",
   "execution_count": 18,
   "metadata": {
    "colab": {},
    "colab_type": "code",
    "id": "UQOfU54_iUs_"
   },
   "outputs": [],
   "source": [
    "model.add(Flatten())\n",
    "model.add(Dropout(rate=0.25))"
   ]
  },
  {
   "cell_type": "code",
   "execution_count": 19,
   "metadata": {
    "colab": {},
    "colab_type": "code",
    "id": "_NV-8sq4iUtD"
   },
   "outputs": [],
   "source": [
    "model.add(Dense(1024, activation='relu'))\n",
    "model.add(Dropout(rate=0.25))"
   ]
  },
  {
   "cell_type": "code",
   "execution_count": 20,
   "metadata": {
    "colab": {},
    "colab_type": "code",
    "id": "qVK77krOiUtF"
   },
   "outputs": [],
   "source": [
    "model.add(Dense(10, activation='softmax'))"
   ]
  },
  {
   "cell_type": "code",
   "execution_count": 21,
   "metadata": {
    "colab": {},
    "colab_type": "code",
    "id": "ZxzRIjR0iUtH"
   },
   "outputs": [
    {
     "name": "stdout",
     "output_type": "stream",
     "text": [
      "Model: \"sequential\"\n",
      "_________________________________________________________________\n",
      "Layer (type)                 Output Shape              Param #   \n",
      "=================================================================\n",
      "conv2d (Conv2D)              (None, 32, 32, 32)        896       \n",
      "_________________________________________________________________\n",
      "dropout (Dropout)            (None, 32, 32, 32)        0         \n",
      "_________________________________________________________________\n",
      "max_pooling2d (MaxPooling2D) (None, 16, 16, 32)        0         \n",
      "_________________________________________________________________\n",
      "conv2d_1 (Conv2D)            (None, 16, 16, 64)        18496     \n",
      "_________________________________________________________________\n",
      "dropout_1 (Dropout)          (None, 16, 16, 64)        0         \n",
      "_________________________________________________________________\n",
      "max_pooling2d_1 (MaxPooling2 (None, 8, 8, 64)          0         \n",
      "_________________________________________________________________\n",
      "flatten (Flatten)            (None, 4096)              0         \n",
      "_________________________________________________________________\n",
      "dropout_2 (Dropout)          (None, 4096)              0         \n",
      "_________________________________________________________________\n",
      "dense (Dense)                (None, 1024)              4195328   \n",
      "_________________________________________________________________\n",
      "dropout_3 (Dropout)          (None, 1024)              0         \n",
      "_________________________________________________________________\n",
      "dense_1 (Dense)              (None, 10)                10250     \n",
      "=================================================================\n",
      "Total params: 4,224,970\n",
      "Trainable params: 4,224,970\n",
      "Non-trainable params: 0\n",
      "_________________________________________________________________\n",
      "None\n"
     ]
    }
   ],
   "source": [
    "#檢查model 的STACK\n",
    "print(model.summary())"
   ]
  },
  {
   "cell_type": "markdown",
   "metadata": {
    "colab_type": "text",
    "id": "QJCtpJM0iUtJ"
   },
   "source": [
    "# 載入之前訓練的模型"
   ]
  },
  {
   "cell_type": "code",
   "execution_count": 22,
   "metadata": {
    "colab": {},
    "colab_type": "code",
    "id": "JU3A6NzQiUtK"
   },
   "outputs": [
    {
     "name": "stdout",
     "output_type": "stream",
     "text": [
      "載入模型失敗!開始訓練一個新模型\n",
      "載入模型失敗!開始訓練一個新模型\n",
      "載入模型失敗!開始訓練一個新模型\n"
     ]
    }
   ],
   "source": [
    "try:\n",
    "    model_cc.load_weights(\"SaveModel/cifarCnnModel.h5\")\n",
    "    print(\"載入模型成功!繼續訓練模型\")\n",
    "except :    \n",
    "    print(\"載入模型失敗!開始訓練一個新模型\")\n",
    "try:\n",
    "    model_MSE.load_weights(\"SaveModel/cifarCnnModel.h5\")\n",
    "    print(\"載入模型成功!繼續訓練模型\")\n",
    "except :    \n",
    "    print(\"載入模型失敗!開始訓練一個新模型\")\n",
    "try:\n",
    "    model_bc.load_weights(\"SaveModel/cifarCnnModel.h5\")\n",
    "    print(\"載入模型成功!繼續訓練模型\")\n",
    "except :    \n",
    "    print(\"載入模型失敗!開始訓練一個新模型\")"
   ]
  },
  {
   "cell_type": "markdown",
   "metadata": {
    "colab_type": "text",
    "id": "qBbCuziziUtM"
   },
   "source": [
    "# 訓練模型"
   ]
  },
  {
   "cell_type": "code",
   "execution_count": 23,
   "metadata": {
    "colab": {},
    "colab_type": "code",
    "id": "Q6BiBcseiUtP"
   },
   "outputs": [],
   "source": [
    "model_MSE=model\n",
    "model_cc=model\n",
    "model_bc=model\n",
    "model_MSE.compile(loss='MSE', optimizer='sgd', metrics=['accuracy'])\n",
    "model_cc.compile(loss='categorical_crossentropy', optimizer='sgd', metrics=['accuracy'])\n",
    "model_bc.compile(loss='binary_crossentropy', optimizer='sgd', metrics=['accuracy'])\n"
   ]
  },
  {
   "cell_type": "code",
   "execution_count": 24,
   "metadata": {
    "colab": {},
    "colab_type": "code",
    "id": "4-GdDgmQiUtS"
   },
   "outputs": [
    {
     "name": "stdout",
     "output_type": "stream",
     "text": [
      "Epoch 1/12\n",
      "293/293 [==============================] - 53s 178ms/step - loss: 0.4113 - accuracy: 0.1105 - val_loss: 0.3670 - val_accuracy: 0.1810\n",
      "Epoch 2/12\n",
      "293/293 [==============================] - 51s 174ms/step - loss: 0.3330 - accuracy: 0.1325 - val_loss: 0.3627 - val_accuracy: 0.2180\n",
      "Epoch 3/12\n",
      "293/293 [==============================] - 50s 170ms/step - loss: 0.3278 - accuracy: 0.1555 - val_loss: 0.3598 - val_accuracy: 0.2446\n",
      "Epoch 4/12\n",
      "293/293 [==============================] - 50s 170ms/step - loss: 0.3237 - accuracy: 0.1719 - val_loss: 0.3566 - val_accuracy: 0.2668\n",
      "Epoch 5/12\n",
      "293/293 [==============================] - 50s 170ms/step - loss: 0.3191 - accuracy: 0.1892 - val_loss: 0.3522 - val_accuracy: 0.2762\n",
      "Epoch 6/12\n",
      "293/293 [==============================] - 50s 172ms/step - loss: 0.3137 - accuracy: 0.2088 - val_loss: 0.3459 - val_accuracy: 0.2920\n",
      "Epoch 7/12\n",
      "293/293 [==============================] - 52s 178ms/step - loss: 0.3080 - accuracy: 0.2312 - val_loss: 0.3408 - val_accuracy: 0.2946\n",
      "Epoch 8/12\n",
      "293/293 [==============================] - 62s 213ms/step - loss: 0.3042 - accuracy: 0.2399 - val_loss: 0.3365 - val_accuracy: 0.2973\n",
      "Epoch 9/12\n",
      "293/293 [==============================] - 52s 179ms/step - loss: 0.3014 - accuracy: 0.2534 - val_loss: 0.3340 - val_accuracy: 0.3053\n",
      "Epoch 10/12\n",
      "293/293 [==============================] - 52s 178ms/step - loss: 0.2987 - accuracy: 0.2629 - val_loss: 0.3312 - val_accuracy: 0.3056\n",
      "Epoch 11/12\n",
      "293/293 [==============================] - 52s 177ms/step - loss: 0.2969 - accuracy: 0.2734 - val_loss: 0.3296 - val_accuracy: 0.3087\n",
      "Epoch 12/12\n",
      "293/293 [==============================] - 52s 178ms/step - loss: 0.2955 - accuracy: 0.2762 - val_loss: 0.3279 - val_accuracy: 0.3146\n",
      "Epoch 1/12\n",
      "293/293 [==============================] - 52s 179ms/step - loss: 0.2931 - accuracy: 0.2828 - val_loss: 0.3259 - val_accuracy: 0.3205\n",
      "Epoch 2/12\n",
      "293/293 [==============================] - 54s 183ms/step - loss: 0.2911 - accuracy: 0.2909 - val_loss: 0.3239 - val_accuracy: 0.3228\n",
      "Epoch 3/12\n",
      "293/293 [==============================] - 54s 184ms/step - loss: 0.2892 - accuracy: 0.2971 - val_loss: 0.3227 - val_accuracy: 0.3240\n",
      "Epoch 4/12\n",
      "293/293 [==============================] - 55s 188ms/step - loss: 0.2874 - accuracy: 0.3044 - val_loss: 0.3197 - val_accuracy: 0.3350\n",
      "Epoch 5/12\n",
      "293/293 [==============================] - 56s 191ms/step - loss: 0.2857 - accuracy: 0.3106 - val_loss: 0.3186 - val_accuracy: 0.3398\n",
      "Epoch 6/12\n",
      "293/293 [==============================] - 55s 189ms/step - loss: 0.2841 - accuracy: 0.3166 - val_loss: 0.3170 - val_accuracy: 0.3394\n",
      "Epoch 7/12\n",
      "293/293 [==============================] - 55s 189ms/step - loss: 0.2825 - accuracy: 0.3221 - val_loss: 0.3150 - val_accuracy: 0.3513\n",
      "Epoch 8/12\n",
      "293/293 [==============================] - 56s 190ms/step - loss: 0.2808 - accuracy: 0.3281 - val_loss: 0.3130 - val_accuracy: 0.3543\n",
      "Epoch 9/12\n",
      "293/293 [==============================] - 56s 190ms/step - loss: 0.2789 - accuracy: 0.3356 - val_loss: 0.3111 - val_accuracy: 0.3566\n",
      "Epoch 10/12\n",
      "293/293 [==============================] - 56s 189ms/step - loss: 0.2772 - accuracy: 0.3391 - val_loss: 0.3113 - val_accuracy: 0.3588\n",
      "Epoch 11/12\n",
      "293/293 [==============================] - 56s 190ms/step - loss: 0.2758 - accuracy: 0.3465 - val_loss: 0.3084 - val_accuracy: 0.3730\n",
      "Epoch 12/12\n",
      "293/293 [==============================] - 56s 189ms/step - loss: 0.2746 - accuracy: 0.3511 - val_loss: 0.3067 - val_accuracy: 0.3699\n",
      "Epoch 1/12\n",
      "293/293 [==============================] - 55s 189ms/step - loss: 0.2731 - accuracy: 0.3525 - val_loss: 0.3041 - val_accuracy: 0.3763\n",
      "Epoch 2/12\n",
      "293/293 [==============================] - 53s 180ms/step - loss: 0.2723 - accuracy: 0.3564 - val_loss: 0.3032 - val_accuracy: 0.3794\n",
      "Epoch 3/12\n",
      "293/293 [==============================] - 54s 183ms/step - loss: 0.2704 - accuracy: 0.3603 - val_loss: 0.3026 - val_accuracy: 0.3815\n",
      "Epoch 4/12\n",
      "293/293 [==============================] - 50s 170ms/step - loss: 0.2690 - accuracy: 0.3684 - val_loss: 0.3013 - val_accuracy: 0.3862\n",
      "Epoch 5/12\n",
      "293/293 [==============================] - 50s 170ms/step - loss: 0.2683 - accuracy: 0.3693 - val_loss: 0.2989 - val_accuracy: 0.3893\n",
      "Epoch 6/12\n",
      "293/293 [==============================] - 52s 176ms/step - loss: 0.2666 - accuracy: 0.3752 - val_loss: 0.2983 - val_accuracy: 0.3865\n",
      "Epoch 7/12\n",
      "293/293 [==============================] - 53s 181ms/step - loss: 0.2658 - accuracy: 0.3760 - val_loss: 0.2968 - val_accuracy: 0.3954\n",
      "Epoch 8/12\n",
      "293/293 [==============================] - 52s 176ms/step - loss: 0.2646 - accuracy: 0.3794 - val_loss: 0.2964 - val_accuracy: 0.4011\n",
      "Epoch 9/12\n",
      "293/293 [==============================] - 52s 177ms/step - loss: 0.2634 - accuracy: 0.3860 - val_loss: 0.2940 - val_accuracy: 0.4044\n",
      "Epoch 10/12\n",
      "293/293 [==============================] - 52s 177ms/step - loss: 0.2626 - accuracy: 0.3872 - val_loss: 0.2938 - val_accuracy: 0.3987\n",
      "Epoch 11/12\n",
      "293/293 [==============================] - 52s 177ms/step - loss: 0.2614 - accuracy: 0.3902 - val_loss: 0.2926 - val_accuracy: 0.4062\n",
      "Epoch 12/12\n",
      "293/293 [==============================] - 50s 172ms/step - loss: 0.2602 - accuracy: 0.3939 - val_loss: 0.2921 - val_accuracy: 0.4091\n"
     ]
    }
   ],
   "source": [
    "\n",
    "#模型訓練, \"Train_History\" 把訓練過程所得到的數值存起來\n",
    "train_history_MSE=model_MSE.fit(x_img_train_normalize, y_label_train_OneHot,\n",
    "                        validation_split=0.25,\n",
    "                        epochs=12, batch_size=128, verbose=1) \n",
    "train_history_cc=model_cc.fit(x_img_train_normalize, y_label_train_OneHot,\n",
    "                        validation_split=0.25,\n",
    "                        epochs=12, batch_size=128, verbose=1)         \n",
    "        \n",
    "train_history_bc=model_bc.fit(x_img_train_normalize, y_label_train_OneHot,\n",
    "                        validation_split=0.25,\n",
    "                        epochs=12, batch_size=128, verbose=1)         \n",
    "\n",
    "#[validation_split = 0.2] validation_split：在0和1之間浮動。用作驗證數據的訓練數據的分數。\n",
    "#該模型將訓練數據的這一部分分開，不會對其進行訓練，並將在每個時期結束時評估該數據的損失和任何模型指標。\n",
    "#[batch_size]：整數或None。每個梯度更新的樣本數。指定，batch_size為128"
   ]
  },
  {
   "cell_type": "code",
   "execution_count": 28,
   "metadata": {},
   "outputs": [],
   "source": [
    "import matplotlib.pyplot as plt\n",
    "%matplotlib inline\n",
    "\n",
    "#定義一個繪圖函數\n",
    "def show_train_history_cc(train_acc,test_acc):\n",
    "    plt.plot(train_history_cc.history[train_acc])\n",
    "    plt.plot(train_history_cc.history[test_acc])\n",
    "    plt.title('Train History_cc')\n",
    "    plt.ylabel('Accuracy')\n",
    "    plt.xlabel('Epoch')\n",
    "    plt.legend(['train_acc', 'val_acc'], loc='upper left')\n",
    "    plt.show()\n",
    "    \n",
    "def show_train_history_MSE(train_acc,test_acc):\n",
    "    plt.plot(train_history_MSE.history[train_acc])\n",
    "    plt.plot(train_history_MSE.history[test_acc])\n",
    "    plt.title('Train History_MSE')\n",
    "    plt.ylabel('Accuracy')\n",
    "    plt.xlabel('Epoch')\n",
    "    plt.legend(['train_acc', 'val_acc'], loc='upper left')\n",
    "    plt.show()\n",
    "    \n",
    "def show_train_history_bc(train_acc,test_acc):\n",
    "    plt.plot(train_history_bc.history[train_acc])\n",
    "    plt.plot(train_history_bc.history[test_acc])\n",
    "    plt.title('Train History_bc')\n",
    "    plt.ylabel('Accuracy')\n",
    "    plt.xlabel('Epoch')\n",
    "    plt.legend(['train_acc', 'val_acc'], loc='upper left')\n",
    "    plt.show()"
   ]
  },
  {
   "cell_type": "code",
   "execution_count": 29,
   "metadata": {},
   "outputs": [
    {
     "data": {
      "image/png": "[encoded data removed]",
      "text/plain": [
       "<Figure size 432x288 with 1 Axes>"
      ]
     },
     "metadata": {
      "needs_background": "light"
     },
     "output_type": "display_data"
    },
    {
     "data": {
      "image/png": "[encoded data removed]",
      "text/plain": [
       "<Figure size 432x288 with 1 Axes>"
      ]
     },
     "metadata": {
      "needs_background": "light"
     },
     "output_type": "display_data"
    },
    {
     "data": {
      "image/png": "[encoded data removed]",
      "text/plain": [
       "<Figure size 432x288 with 1 Axes>"
      ]
     },
     "metadata": {
      "needs_background": "light"
     },
     "output_type": "display_data"
    }
   ],
   "source": [
    "show_train_history_cc('accuracy','val_accuracy')\n",
    "show_train_history_MSE('accuracy','val_accuracy')\n",
    "show_train_history_bc('accuracy','val_accuracy')"
   ]
  },
  {
   "cell_type": "code",
   "execution_count": 30,
   "metadata": {},
   "outputs": [
    {
     "data": {
      "image/png": "[encoded data removed]",
      "text/plain": [
       "<Figure size 432x288 with 1 Axes>"
      ]
     },
     "metadata": {
      "needs_background": "light"
     },
     "output_type": "display_data"
    },
    {
     "data": {
      "image/png": "[encoded data removed]",
      "text/plain": [
       "<Figure size 432x288 with 1 Axes>"
      ]
     },
     "metadata": {
      "needs_background": "light"
     },
     "output_type": "display_data"
    },
    {
     "data": {
      "image/png": "[encoded data removed]",
      "text/plain": [
       "<Figure size 432x288 with 1 Axes>"
      ]
     },
     "metadata": {
      "needs_background": "light"
     },
     "output_type": "display_data"
    }
   ],
   "source": [
    "show_train_history_cc('loss','val_loss')\n",
    "show_train_history_MSE('loss','val_loss')\n",
    "show_train_history_bc('loss','val_loss')"
   ]
  },
  {
   "cell_type": "code",
   "execution_count": null,
   "metadata": {},
   "outputs": [],
   "source": []
  }
 ],
 "metadata": {
  "colab": {
   "name": "Day71-使用損失函數_HW.ipynb",
   "provenance": [],
   "version": "0.3.2"
  },
  "kernelspec": {
   "display_name": "Python 3",
   "language": "python",
   "name": "python3"
  },
  "language_info": {
   "codemirror_mode": {
    "name": "ipython",
    "version": 3
   },
   "file_extension": ".py",
   "mimetype": "text/x-python",
   "name": "python",
   "nbconvert_exporter": "python",
   "pygments_lexer": "ipython3",
   "version": "3.8.5"
  }
 },
 "nbformat": 4,
 "nbformat_minor": 1
}
